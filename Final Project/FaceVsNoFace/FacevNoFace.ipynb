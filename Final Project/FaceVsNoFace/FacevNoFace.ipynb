{
 "cells": [
  {
   "cell_type": "code",
   "execution_count": 1,
   "id": "57f5da1a",
   "metadata": {},
   "outputs": [],
   "source": [
    "## Standard libraries\n",
    "import os\n",
    "import random\n",
    "import time\n",
    "import datetime\n",
    "import numpy as np\n",
    "import pandas as pd\n",
    "from PIL import Image\n",
    "import matplotlib.pyplot as plt\n",
    "from sklearn.metrics import accuracy_score\n",
    "import torchvision.models as models\n",
    "\n",
    "## Progress bar\n",
    "from tqdm.notebook import tqdm\n",
    "\n",
    "## Pytorch & Torchvision\n",
    "import torch\n",
    "import torch.nn as nn\n",
    "from torch.autograd import Variable\n",
    "from torch.nn import Linear, ReLU, CrossEntropyLoss, Sequential, Conv2d, MaxPool2d, Module, Softmax, BatchNorm2d, Dropout\n",
    "import torch.nn.functional as F\n",
    "import torch.utils.data as data\n",
    "import torch.optim as optim\n",
    "from torch.optim import Adam, SGD\n",
    "from torch.utils.data import Dataset\n",
    "from torchvision import transforms, utils\n",
    "from torchvision.transforms import ToTensor\n",
    "from torch.utils.data import DataLoader\n",
    "## Custom dataset\n",
    "from CustomData import NFDataset\n",
    "CSV_path =  \".\\\\Noise&Face_CSV\\\\\""
   ]
  },
  {
   "cell_type": "code",
   "execution_count": 2,
   "id": "d925b292",
   "metadata": {},
   "outputs": [],
   "source": [
    "# Function for setting the seed\n",
    "def set_seed(seed):\n",
    "    random.seed(seed)\n",
    "    np.random.seed(seed)\n",
    "    torch.manual_seed(seed)\n",
    "    if torch.cuda.is_available():\n",
    "        torch.cuda.manual_seed(seed)\n",
    "        torch.cuda.manual_seed_all(seed)\n",
    "        \n",
    "#Set seed\n",
    "set_seed(42)"
   ]
  },
  {
   "cell_type": "code",
   "execution_count": 3,
   "id": "67e9b97b",
   "metadata": {},
   "outputs": [
    {
     "name": "stdout",
     "output_type": "stream",
     "text": [
      "Is the GPU available? True\n",
      "Device: cuda\n",
      "Device name: NVIDIA GeForce RTX 2060\n"
     ]
    }
   ],
   "source": [
    "#GPU check and setup\n",
    "if torch.cuda.is_available():\n",
    "    torch.backends.cudnn.determinstic = True\n",
    "    torch.backends.cudnn.benchmark = False\n",
    "    \n",
    "#Check for cuda GPU to run on:\n",
    "gpu_avail = torch.cuda.is_available()\n",
    "print(f\"Is the GPU available? {gpu_avail}\")\n",
    "device = torch.device(\"cuda\") if torch.cuda.is_available() else torch.device(\"cpu\")\n",
    "print(\"Device:\", device)\n",
    "if gpu_avail:\n",
    "    print(\"Device name: \" + torch.cuda.get_device_name(0))"
   ]
  },
  {
   "cell_type": "code",
   "execution_count": 4,
   "id": "fe00d54f",
   "metadata": {},
   "outputs": [
    {
     "data": {
      "application/vnd.jupyter.widget-view+json": {
       "model_id": "24f836606df24c108c136e55ac60a4c0",
       "version_major": 2,
       "version_minor": 0
      },
      "text/plain": [
       "  0%|          | 0/146 [00:00<?, ?it/s]"
      ]
     },
     "metadata": {},
     "output_type": "display_data"
    },
    {
     "name": "stdout",
     "output_type": "stream",
     "text": [
      "MEAN: tensor([0.3137])\n",
      "STD: tensor([0.2816])\n"
     ]
    }
   ],
   "source": [
    "# Calc mean and std\n",
    "\n",
    "test_transform =  transforms.Compose([transforms.ToPILImage(),\n",
    "                                      transforms.Resize((32,32)),\n",
    "                                      transforms.ToTensor(),\n",
    "                                     ])\n",
    "\n",
    "dataset = NFDataset(csv_file = CSV_path+\"NF_train.csv\", root_dir = '.\\\\', transform = test_transform)\n",
    "loader = DataLoader(dataset=dataset, batch_size=128, shuffle=True, drop_last=False, num_workers=4)\n",
    "\n",
    "def batch_mean_and_sd(loader):\n",
    "    \n",
    "    cnt = 0\n",
    "    fst_moment = torch.empty(1)\n",
    "    snd_moment = torch.empty(1)\n",
    "\n",
    "    for images, _ in tqdm(loader):\n",
    "        b, c, h, w = images.shape\n",
    "        nb_pixels = b * h * w\n",
    "        sum_ = torch.sum(images, dim=[0, 2, 3])\n",
    "        sum_of_square = torch.sum(images ** 2,\n",
    "                                  dim=[0, 2, 3])\n",
    "        fst_moment = (cnt * fst_moment + sum_) / (cnt + nb_pixels)\n",
    "        snd_moment = (cnt * snd_moment + sum_of_square) / (cnt + nb_pixels)\n",
    "        cnt += nb_pixels\n",
    "\n",
    "    mean, std = fst_moment, torch.sqrt(snd_moment - fst_moment ** 2)        \n",
    "    return mean,std\n",
    "  \n",
    "mean, std = batch_mean_and_sd(loader)\n",
    "print (\"MEAN:\", mean)\n",
    "print (\"STD:\", std)"
   ]
  },
  {
   "cell_type": "code",
   "execution_count": 5,
   "id": "f323d9c1",
   "metadata": {},
   "outputs": [],
   "source": [
    "train_transform = transforms.Compose([transforms.ToPILImage(),\n",
    "                                      transforms.RandomHorizontalFlip(),\n",
    "                                      transforms.RandomResizedCrop((32,32),scale=(0.8,1.0),ratio=(0.9,1.1)),\n",
    "                                      transforms.ToTensor(),\n",
    "                                      transforms.Normalize(mean, std)\n",
    "                                     ])\n",
    "test_transform =  transforms.Compose([transforms.ToPILImage(),\n",
    "                                      transforms.Resize((32,32)),\n",
    "                                      transforms.ToTensor(),\n",
    "                                      transforms.Normalize(mean, std)\n",
    "                                     ])\n",
    "\n",
    "# Split the sets\n",
    "train_dataset = NFDataset(csv_file = CSV_path+\"NF_train.csv\", root_dir = '.\\\\', transform = train_transform)\n",
    "val_dataset = NFDataset(csv_file = CSV_path+\"NF_train.csv\", root_dir = '.\\\\', transform = test_transform)\n",
    "set_seed(42)\n",
    "train_set, _ = torch.utils.data.random_split(train_dataset, [14936,3734])\n",
    "set_seed(42)\n",
    "_, val_set = torch.utils.data.random_split(val_dataset, [14936,3734])\n",
    "test_set = NFDataset(csv_file = CSV_path+\"NF_test.csv\", root_dir = '.\\\\', transform = test_transform)\n",
    "\n",
    "# Define a set of data loaders\n",
    "train_loader = DataLoader(dataset=train_set, batch_size=128, shuffle=True, drop_last=True, pin_memory=True, num_workers=4)\n",
    "val_loader = DataLoader(dataset=val_set, batch_size=128, shuffle=True, drop_last=False, num_workers=4)\n",
    "test_loader = DataLoader(dataset=test_set, batch_size=128,shuffle=True, drop_last=False, num_workers=4)"
   ]
  },
  {
   "cell_type": "code",
   "execution_count": 6,
   "id": "a4549574",
   "metadata": {},
   "outputs": [
    {
     "name": "stdout",
     "output_type": "stream",
     "text": [
      "Feature batch shape: torch.Size([128, 1, 32, 32])\n",
      "Labels batch shape: torch.Size([128])\n"
     ]
    },
    {
     "data": {
      "image/png": "[encoded data removed]",
      "text/plain": [
       "<Figure size 432x288 with 1 Axes>"
      ]
     },
     "metadata": {
      "needs_background": "light"
     },
     "output_type": "display_data"
    },
    {
     "name": "stdout",
     "output_type": "stream",
     "text": [
      "Label: 0\n"
     ]
    }
   ],
   "source": [
    "# Print a sample of the training data\n",
    "train_features, train_labels = next(iter(train_loader))\n",
    "print(f\"Feature batch shape: {train_features.size()}\")\n",
    "print(f\"Labels batch shape: {train_labels.size()}\")\n",
    "img = train_features[0].squeeze()\n",
    "label = train_labels[0]\n",
    "plt.imshow(img, cmap=\"gray\")\n",
    "plt.show()\n",
    "print(f\"Label: {label}\")"
   ]
  },
  {
   "cell_type": "code",
   "execution_count": 7,
   "id": "e86168ad",
   "metadata": {},
   "outputs": [
    {
     "name": "stdout",
     "output_type": "stream",
     "text": [
      "Batch mean tensor([0.0994])\n",
      "Batch std tensor([0.9860])\n"
     ]
    }
   ],
   "source": [
    "# To verify that our normalization works, we can print out the mean and standard deviation of the single batch.\n",
    "# The mean should be close to 0 and the standard deviation close to 1 for each channel:\n",
    "imgs, _ = next(iter(train_loader))\n",
    "print(\"Batch mean\", imgs.mean(dim=[0,2,3]))\n",
    "print(\"Batch std\", imgs.std(dim=[0,2,3]))"
   ]
  },
  {
   "cell_type": "code",
   "execution_count": 8,
   "id": "ca1055cb",
   "metadata": {},
   "outputs": [],
   "source": [
    "class ResBlock(nn.Module):\n",
    "  def __init__(self, n_chans):\n",
    "    super(ResBlock, self).__init__()\n",
    "    self.conv = nn.Conv2d(n_chans, n_chans, kernel_size=3, padding=1, bias=False)\n",
    "    self.dropout = nn.Dropout2d(p = 0.3)\n",
    "  def forward(self, x):\n",
    "    out = self.conv(x)\n",
    "    out = self.dropout(out)\n",
    "    out = torch.relu(out)\n",
    "    return out + x\n",
    "class ResNet10D(nn.Module):\n",
    "    def __init__(self, n_chans1=128, n_blocks=10):\n",
    "        super().__init__()\n",
    "        self.n_chans1 = n_chans1\n",
    "        self.conv1 = nn.Conv2d(1, n_chans1, kernel_size=3, padding=1)\n",
    "        self.resblocks = nn.Sequential(\n",
    "            *(n_blocks * [ResBlock(n_chans=n_chans1)]))\n",
    "        self.fc1 = nn.Linear(8 * 8 * n_chans1, 32)\n",
    "        self.fc2 = nn.Linear(32, 10)\n",
    "    def forward(self, x):\n",
    "        out = F.max_pool2d(torch.relu(self.conv1(x)), 2)\n",
    "        out = self.resblocks(out)\n",
    "        out = F.max_pool2d(out, 2)\n",
    "        out = out.view(-1, 8 * 8 * self.n_chans1)\n",
    "        out = torch.relu(self.fc1(out))\n",
    "        out = self.fc2(out)\n",
    "        return out\n",
    "class Net(Module):   \n",
    "    def __init__(self):\n",
    "        super(Net, self).__init__()\n",
    "        # 1 input image channel, 6 output channels, 5x5 square convolution\n",
    "        # kernel\n",
    "        self.conv1 = nn.Conv2d(1, 6, 5)\n",
    "        self.conv2 = nn.Conv2d(6, 16, 5)\n",
    "        # an affine operation: y = Wx + b\n",
    "        self.fc1 = nn.Linear(16 * 5 * 5, 120)  # 5*5 from image dimension\n",
    "        self.fc2 = nn.Linear(120, 84)\n",
    "        self.fc3 = nn.Linear(84, 10)\n",
    "\n",
    "    def forward(self, x):\n",
    "        # Max pooling over a (2, 2) window\n",
    "        x = F.max_pool2d(F.relu(self.conv1(x)), (2, 2))\n",
    "        # If the size is a square, you can specify with a single number\n",
    "        x = F.max_pool2d(F.relu(self.conv2(x)), 2)\n",
    "        x = torch.flatten(x, 1) # flatten all dimensions except the batch dimension\n",
    "        x = F.relu(self.fc1(x))\n",
    "        x = F.relu(self.fc2(x))\n",
    "        x = self.fc3(x)\n",
    "        return x"
   ]
  },
  {
   "cell_type": "code",
   "execution_count": 9,
   "id": "8ef3dc85",
   "metadata": {},
   "outputs": [
    {
     "name": "stdout",
     "output_type": "stream",
     "text": [
      "ResNet10D(\n",
      "  (conv1): Conv2d(1, 128, kernel_size=(3, 3), stride=(1, 1), padding=(1, 1))\n",
      "  (resblocks): Sequential(\n",
      "    (0): ResBlock(\n",
      "      (conv): Conv2d(128, 128, kernel_size=(3, 3), stride=(1, 1), padding=(1, 1), bias=False)\n",
      "      (dropout): Dropout2d(p=0.3, inplace=False)\n",
      "    )\n",
      "    (1): ResBlock(\n",
      "      (conv): Conv2d(128, 128, kernel_size=(3, 3), stride=(1, 1), padding=(1, 1), bias=False)\n",
      "      (dropout): Dropout2d(p=0.3, inplace=False)\n",
      "    )\n",
      "    (2): ResBlock(\n",
      "      (conv): Conv2d(128, 128, kernel_size=(3, 3), stride=(1, 1), padding=(1, 1), bias=False)\n",
      "      (dropout): Dropout2d(p=0.3, inplace=False)\n",
      "    )\n",
      "    (3): ResBlock(\n",
      "      (conv): Conv2d(128, 128, kernel_size=(3, 3), stride=(1, 1), padding=(1, 1), bias=False)\n",
      "      (dropout): Dropout2d(p=0.3, inplace=False)\n",
      "    )\n",
      "    (4): ResBlock(\n",
      "      (conv): Conv2d(128, 128, kernel_size=(3, 3), stride=(1, 1), padding=(1, 1), bias=False)\n",
      "      (dropout): Dropout2d(p=0.3, inplace=False)\n",
      "    )\n",
      "    (5): ResBlock(\n",
      "      (conv): Conv2d(128, 128, kernel_size=(3, 3), stride=(1, 1), padding=(1, 1), bias=False)\n",
      "      (dropout): Dropout2d(p=0.3, inplace=False)\n",
      "    )\n",
      "    (6): ResBlock(\n",
      "      (conv): Conv2d(128, 128, kernel_size=(3, 3), stride=(1, 1), padding=(1, 1), bias=False)\n",
      "      (dropout): Dropout2d(p=0.3, inplace=False)\n",
      "    )\n",
      "    (7): ResBlock(\n",
      "      (conv): Conv2d(128, 128, kernel_size=(3, 3), stride=(1, 1), padding=(1, 1), bias=False)\n",
      "      (dropout): Dropout2d(p=0.3, inplace=False)\n",
      "    )\n",
      "    (8): ResBlock(\n",
      "      (conv): Conv2d(128, 128, kernel_size=(3, 3), stride=(1, 1), padding=(1, 1), bias=False)\n",
      "      (dropout): Dropout2d(p=0.3, inplace=False)\n",
      "    )\n",
      "    (9): ResBlock(\n",
      "      (conv): Conv2d(128, 128, kernel_size=(3, 3), stride=(1, 1), padding=(1, 1), bias=False)\n",
      "      (dropout): Dropout2d(p=0.3, inplace=False)\n",
      "    )\n",
      "  )\n",
      "  (fc1): Linear(in_features=8192, out_features=32, bias=True)\n",
      "  (fc2): Linear(in_features=32, out_features=10, bias=True)\n",
      ")\n"
     ]
    }
   ],
   "source": [
    "# defining the model\n",
    "model = ResNet10D().to(device=device)\n",
    "\n",
    "    \n",
    "print(model)"
   ]
  },
  {
   "cell_type": "code",
   "execution_count": 10,
   "id": "357f39c3",
   "metadata": {},
   "outputs": [],
   "source": [
    "#Training and validation functions for first model:\n",
    "def training_loop(n_epochs, optimizer, model, loss_fn, train_loader):\n",
    "    for epoch in tqdm(range(1, n_epochs + 1)):\n",
    "        loss_train = 0.0\n",
    "        for imgs, labels in train_loader:\n",
    "            \n",
    "            imgs = imgs.to(device=device)\n",
    "            labels = labels.to(device=device)\n",
    "            outputs = model(imgs)\n",
    "            loss = loss_fn(outputs, labels)\n",
    "            optimizer.zero_grad()\n",
    "            loss.backward()\n",
    "            optimizer.step()\n",
    "            loss_train += loss.item()\n",
    "\n",
    "        if epoch == 1 or epoch % 10 == 0:\n",
    "            print('{} Epoch {}, Training loss {}'.format(\n",
    "                datetime.datetime.now(), epoch,\n",
    "                loss_train / len(train_loader)))\n",
    "            \n",
    "def validate(model, train_loader, val_loader):\n",
    "    for name, loader in [(\"train\", train_loader), (\"val\", val_loader)]:\n",
    "        correct = 0\n",
    "        total = 0\n",
    "\n",
    "        with torch.no_grad():  # <1>\n",
    "            for imgs, labels in loader:\n",
    "                imgs = imgs.to(device=device)\n",
    "                labels = labels.to(device=device)\n",
    "                outputs = model(imgs)\n",
    "                _, predicted = torch.max(outputs, dim=1) # <2>\n",
    "                total += labels.shape[0]  # <3>\n",
    "                correct += int((predicted == labels).sum())  # <4>\n",
    "\n",
    "        print(\"Accuracy {}: {:.2f}\".format(name , correct / total))"
   ]
  },
  {
   "cell_type": "code",
   "execution_count": 11,
   "id": "5062f039",
   "metadata": {},
   "outputs": [
    {
     "data": {
      "application/vnd.jupyter.widget-view+json": {
       "model_id": "179ee590c7894115a2c7fd95b25a7ec4",
       "version_major": 2,
       "version_minor": 0
      },
      "text/plain": [
       "  0%|          | 0/50 [00:00<?, ?it/s]"
      ]
     },
     "metadata": {},
     "output_type": "display_data"
    },
    {
     "name": "stdout",
     "output_type": "stream",
     "text": [
      "2022-05-07 13:43:18.059243 Epoch 1, Training loss 1.519956545583133\n",
      "2022-05-07 13:45:08.470043 Epoch 10, Training loss 0.0068900594141551065\n",
      "2022-05-07 13:47:11.902695 Epoch 20, Training loss 0.0030748122433202486\n",
      "2022-05-07 13:49:14.764567 Epoch 30, Training loss 0.0010563774641045242\n",
      "2022-05-07 13:51:18.631877 Epoch 40, Training loss 0.0008438453624907636\n",
      "2022-05-07 13:53:20.770347 Epoch 50, Training loss 0.0006360444308307737\n",
      "Accuracy train: 1.00\n",
      "Accuracy val: 1.00\n"
     ]
    }
   ],
   "source": [
    "# defining the optimizer\n",
    "#optimizer = Adam(model.parameters(), lr=0.07)\n",
    "optimizer = optim.SGD(model.parameters(), lr=3e-3)\n",
    "loss_fn = nn.CrossEntropyLoss().to(device=device)\n",
    "    \n",
    "training_loop(\n",
    "    n_epochs = 50,\n",
    "    optimizer = optimizer,\n",
    "    model = model,\n",
    "    loss_fn = loss_fn,\n",
    "    train_loader = train_loader,\n",
    ")\n",
    "\n",
    "validate(model, train_loader, val_loader)"
   ]
  },
  {
   "cell_type": "code",
   "execution_count": null,
   "id": "e03af220",
   "metadata": {},
   "outputs": [],
   "source": []
  },
  {
   "cell_type": "code",
   "execution_count": 12,
   "id": "a80f1a44",
   "metadata": {},
   "outputs": [
    {
     "name": "stdout",
     "output_type": "stream",
     "text": [
      "This is true [0 0 1 1 1 1 1 0 0 1 1 0 0 1 1 0 1 1 0 0 0 0 1 1 0 0 1 1 1 1 0 0 1 0 0 0 0\n",
      " 0 1 1 0 1 1 0 0 1 1 1 1 1 1 0 1 1 1 0 0 1 0 1 1 1 1 1 0 0 1 1 1 1 1 1 1 1\n",
      " 1 1 1 1 1 1 1 1 0 0 1 0 1 1 1 0 0 1 1 1 0 1 0 1 0 0 0 0 1 1 1 1 0 1 1 0 1\n",
      " 1 0 1 0 0 0 0 0 0 1 0 1 0 1 1 1 1]\n",
      "Predictions [0 0 1 1 1 1 1 0 0 1 1 0 0 1 1 0 1 1 0 0 0 0 1 1 0 0 1 1 1 1 0 0 1 0 0 0 0\n",
      " 0 1 1 0 1 1 0 0 1 1 1 1 1 1 0 1 1 1 0 0 1 0 1 1 1 1 1 0 0 1 1 1 1 1 1 1 1\n",
      " 1 1 1 1 1 1 1 1 0 0 1 0 1 1 1 0 0 1 1 1 0 1 0 1 0 0 0 0 1 1 1 1 0 1 1 0 1\n",
      " 1 0 1 0 0 0 0 0 0 1 0 1 0 1 1 1 1]\n"
     ]
    }
   ],
   "source": [
    "test_features, test_labels = next(iter(test_loader))\n",
    "model_out = model(test_features.to(device=device))\n",
    "ytrue = test_labels\n",
    "ypred = torch.argmax(model_out, axis =1)\n",
    "ytrue = ytrue.to('cpu').detach().numpy()\n",
    "ypred = ypred.to('cpu').detach().numpy()\n",
    "print(\"This is true\", ytrue)\n",
    "print(\"Predictions\",ypred)"
   ]
  },
  {
   "cell_type": "code",
   "execution_count": 13,
   "id": "f1e37ff2-82bb-4fc4-a0b2-c6e35e7461f8",
   "metadata": {},
   "outputs": [
    {
     "data": {
      "image/png": "[encoded data removed]",
      "text/plain": [
       "<Figure size 432x288 with 1 Axes>"
      ]
     },
     "metadata": {
      "needs_background": "light"
     },
     "output_type": "display_data"
    }
   ],
   "source": [
    "from sklearn.metrics import confusion_matrix \n",
    "import seaborn as sns \n",
    "mat = confusion_matrix(ytrue, ypred) \n",
    "sns.heatmap(mat.T, square=True, annot=True, fmt='d', cbar=False, \n",
    "            xticklabels=['No Face','Face'], \n",
    "            yticklabels=['No Face','Face',]) \n",
    "plt.xlabel('true label') \n",
    "plt.ylabel('predicted label'); "
   ]
  },
  {
   "cell_type": "code",
   "execution_count": null,
   "id": "00a64ba0-3459-4f40-9e58-0451cd636095",
   "metadata": {},
   "outputs": [],
   "source": []
  }
 ],
 "metadata": {
  "kernelspec": {
   "display_name": "Python 3",
   "language": "python",
   "name": "python3"
  },
  "language_info": {
   "codemirror_mode": {
    "name": "ipython",
    "version": 3
   },
   "file_extension": ".py",
   "mimetype": "text/x-python",
   "name": "python",
   "nbconvert_exporter": "python",
   "pygments_lexer": "ipython3",
   "version": "3.8.8"
  }
 },
 "nbformat": 4,
 "nbformat_minor": 5
}
