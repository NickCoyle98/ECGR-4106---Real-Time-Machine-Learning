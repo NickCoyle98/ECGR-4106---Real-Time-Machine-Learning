{
 "cells": [
  {
   "cell_type": "code",
   "execution_count": 1,
   "id": "16a97df6-025d-494a-bda8-c9e35ab89c33",
   "metadata": {},
   "outputs": [],
   "source": [
    "import torch\n",
    "from torchvision import transforms\n",
    "from PIL import Image\n",
    "import numpy as np\n",
    "import matplotlib.pyplot as plt\n",
    "import pandas as pd\n",
    "dtype = np.float64"
   ]
  },
  {
   "cell_type": "code",
   "execution_count": 2,
   "id": "d31a727f-4c1f-4228-91d1-f093f16ac92a",
   "metadata": {},
   "outputs": [],
   "source": [
    "redimage1 = Image.open(\"ColorImages/apple.jpg\")\n",
    "redimage2 = Image.open(\"ColorImages/rose.jpg\")\n",
    "redimage3 = Image.open(\"ColorImages/tomato.jpg\")\n",
    "greenimage1 = Image.open(\"ColorImages/gapple.jpg\")\n",
    "greenimage2 = Image.open(\"ColorImages/leaf.jpg\")\n",
    "greenimage3 = Image.open(\"ColorImages/melon.jpg\")\n",
    "blueimage1 = Image.open(\"ColorImages/dust.jpg\")\n",
    "blueimage2 = Image.open(\"ColorImages/man.jpg\")\n",
    "blueimage3 = Image.open(\"ColorImages/watch.jpg\")"
   ]
  },
  {
   "cell_type": "code",
   "execution_count": 3,
   "id": "a9360fee-3307-4afc-822c-7a1d63dbcfb5",
   "metadata": {},
   "outputs": [],
   "source": [
    "transform = transforms.ToTensor()\n",
    "r1tdat = transform(redimage1)\n",
    "r2tdat = transform(redimage2)\n",
    "r3tdat = transform(redimage3)\n",
    "g1tdat = transform(greenimage1)\n",
    "g2tdat = transform(greenimage2)\n",
    "g3tdat = transform(greenimage3)\n",
    "b1tdat = transform(blueimage1)\n",
    "b2tdat = transform(blueimage2)\n",
    "b3tdat = transform(blueimage3)"
   ]
  },
  {
   "cell_type": "code",
   "execution_count": 4,
   "id": "c1d277a9-f19e-458e-bed6-f078dde9aa1a",
   "metadata": {},
   "outputs": [],
   "source": [
    "r1mean = torch.mean(r1tdat, dim =[1,2])\n",
    "r2mean = torch.mean(r2tdat, dim =[1,2])\n",
    "r3mean = torch.mean(r3tdat, dim =[1,2])\n",
    "g1mean = torch.mean(g1tdat, dim =[1,2])\n",
    "g2mean = torch.mean(g2tdat, dim =[1,2])\n",
    "g3mean = torch.mean(g3tdat, dim =[1,2])\n",
    "b1mean = torch.mean(b1tdat, dim =[1,2])\n",
    "b2mean = torch.mean(b2tdat, dim =[1,2])\n",
    "b3mean = torch.mean(b3tdat, dim =[1,2])"
   ]
  },
  {
   "cell_type": "code",
   "execution_count": 5,
   "id": "cee8685e-2ed1-4fe3-bed0-bc269b61d680",
   "metadata": {},
   "outputs": [
    {
     "name": "stdout",
     "output_type": "stream",
     "text": [
      "Red Image 1 Mean:  tensor([0.8193, 0.6404, 0.6604])\n",
      "Red Image 2 Mean:  tensor([0.6156, 0.0473, 0.0296])\n",
      "Red Image 3 Mean:  tensor([0.8550, 0.2780, 0.1751])\n",
      "Green Image 1 Mean:  tensor([0.7839, 0.8611, 0.5716])\n",
      "Green Image 2 Mean:  tensor([0.5041, 0.6186, 0.1764])\n",
      "Green Image 3 Mean:  tensor([0.2467, 0.5229, 0.2146])\n",
      "Blue Image 1 Mean:  tensor([0.6180, 0.6480, 0.8428])\n",
      "Blue Image 2 Mean:  tensor([0.0651, 0.1343, 0.3105])\n",
      "Blue Image 3 Mean:  tensor([0.6594, 0.6975, 0.7729])\n"
     ]
    }
   ],
   "source": [
    "print(\"Red Image 1 Mean: \", r1mean)\n",
    "print(\"Red Image 2 Mean: \", r2mean)\n",
    "print(\"Red Image 3 Mean: \", r3mean)\n",
    "print(\"Green Image 1 Mean: \", g1mean)\n",
    "print(\"Green Image 2 Mean: \", g2mean)\n",
    "print(\"Green Image 3 Mean: \", g3mean)\n",
    "print(\"Blue Image 1 Mean: \", b1mean)\n",
    "print(\"Blue Image 2 Mean: \", b2mean)\n",
    "print(\"Blue Image 3 Mean: \", b3mean)"
   ]
  },
  {
   "cell_type": "code",
   "execution_count": 18,
   "id": "f050e7f1-c178-461b-80e2-03c428f5e92f",
   "metadata": {},
   "outputs": [],
   "source": [
    "from sklearn.preprocessing import StandardScaler\n",
    "featuresscaler = StandardScaler()\n",
    "def model(t_u, w1, w2, b):\n",
    "    return pow((w2*t_u),2)+(w1*t_u)+b\n",
    "def loss_fn(t_p, t_c):\n",
    "    squared_diffs = pow((t_p - t_c),2)\n",
    "    return squared_diffs.mean()\n",
    "def dmodel_dw1(t_u, w1, w2, b):\n",
    "    return t_u\n",
    "def dmodel_dw2(t_u, w1, w2, b):\n",
    "    return t_u\n",
    "def dmodel_db(t_u, w1, w2, b):\n",
    "    return 1\n",
    "def dloss_fn(t_p, t_c):\n",
    "    dsq_diffs = (2 * (t_p - t_c)) / t_p.size(0)\n",
    "    return dsq_diffs\n",
    "def grad_fn(t_u, t_c, t_p, w1, w2, b):\n",
    "    dloss_dtp = dloss_fn(t_p, t_c)\n",
    "    dloss_dw1 = dloss_dtp * dmodel_dw1(t_u, w1, w2, b)\n",
    "    dloss_dw2 = dloss_dtp * dmodel_dw2(t_u, w1, w2, b)\n",
    "    dloss_db = dloss_dtp * dmodel_db(t_u, w1, w2, b)\n",
    "    \n",
    "    return torch.stack([dloss_dw1.sum(), dloss_dw2.sum(), dloss_db.sum()])\n",
    "\n",
    "    \n",
    "t_u = [35.7, 55.9, 58.2, 81.9, 56.3, 48.9, 33.9, 21.8, 48.4, 60.4, 68.4]\n",
    "t_c = [0.5, 14.0, 15.0, 28.0, 11.0, 8.0, 3.0, -4.0, 6.0, 13.0, 21.0]\n",
    "\n",
    "t_c = torch.tensor(t_c)\n",
    "t_u = torch.tensor(t_u)\n",
    "w1 = torch.ones(())\n",
    "w2 = torch.ones(())\n",
    "b = torch.zeros(())"
   ]
  },
  {
   "cell_type": "code",
   "execution_count": 19,
   "id": "f3b9bac3-27cb-48de-bf2d-69fff12f75c0",
   "metadata": {},
   "outputs": [],
   "source": [
    "def training_loop(n_epochs, learning_rate, params, t_u, t_c):\n",
    "    losshistory = np.zeros(n_epochs+1)\n",
    "    for epoch in range(1, n_epochs + 1):\n",
    "        w1, w2, b = params\n",
    "        t_p = model(t_u, w1, w2, b)\n",
    "        loss = loss_fn(t_p, t_c)\n",
    "        grad = grad_fn(t_u, t_c, t_p, w1, w2, b)\n",
    "\n",
    "        params = params - learning_rate * grad\n",
    "        losshistory[epoch] = float(loss)\n",
    "     \n",
    "    return params"
   ]
  },
  {
   "cell_type": "code",
   "execution_count": 42,
   "id": "67b1720f-0b87-4c4a-9ed9-44cb5553a1c0",
   "metadata": {},
   "outputs": [
    {
     "data": {
      "text/plain": [
       "[<matplotlib.lines.Line2D at 0x23d1738fb20>]"
      ]
     },
     "execution_count": 42,
     "metadata": {},
     "output_type": "execute_result"
    },
    {
     "data": {
      "image/png": "[encoded data removed]",
      "text/plain": [
       "<Figure size 720x480 with 1 Axes>"
      ]
     },
     "metadata": {
      "needs_background": "light"
     },
     "output_type": "display_data"
    }
   ],
   "source": [
    "params = training_loop(n_epochs = 5000, learning_rate = 0.0000000005, params = torch.tensor([1, 1, 0]), t_u = t_u, t_c = t_c);\n",
    "t_un = 0.1 * t_u\n",
    "t_p = model(t_un, *params)\n",
    "fig = plt.figure(dpi=120)\n",
    "plt.plot(t_u.numpy(), t_p.detach().numpy())\n",
    "plt.plot(t_u.numpy(), t_c.numpy(), 'o')"
   ]
  },
  {
   "cell_type": "code",
   "execution_count": null,
   "id": "ecde92ac-8cb5-4c85-b98d-35389213ab5b",
   "metadata": {},
   "outputs": [],
   "source": []
  },
  {
   "cell_type": "code",
   "execution_count": 9,
   "id": "68f1dd76-31c0-4d3d-a0c2-86a637bf08ed",
   "metadata": {},
   "outputs": [],
   "source": [
    "data = pd.read_csv(\"https://raw.githubusercontent.com/NickCoyle98/Homework/main/Homework%201/Housing.csv\")\n",
    "data.head()\n",
    "from sklearn.preprocessing import StandardScaler\n",
    "featuresscaler = StandardScaler()"
   ]
  },
  {
   "cell_type": "code",
   "execution_count": 10,
   "id": "09a8bd5a-bd81-4c4a-b396-5cc3767b527b",
   "metadata": {},
   "outputs": [],
   "source": [
    "area = data.iloc[:,1].values\n",
    "bedrooms = data.iloc[:,2].values\n",
    "bathrooms = data.iloc[:,3].values\n",
    "stories = data.iloc[:,4].values\n",
    "parking = data.iloc[:,10].values\n",
    "price = data.iloc[:,0].values\n",
    "tarea = area.reshape(-1,1)\n",
    "tbedrooms = bedrooms.reshape(-1,1)\n",
    "tbathrooms = bathrooms.reshape(-1,1)\n",
    "tstories = stories.reshape(-1,1)\n",
    "tparking = parking.reshape(-1,1)\n",
    "tprice = price.reshape(-1,1)\n",
    "sarea = featuresscaler.fit_transform(tarea)\n",
    "sbedrooms = featuresscaler.fit_transform(tbedrooms)\n",
    "sbathrooms = featuresscaler.fit_transform(tbathrooms)\n",
    "sstories = featuresscaler.fit_transform(tstories)\n",
    "sparking = featuresscaler.fit_transform(tparking)\n",
    "sprice = featuresscaler.fit_transform(tprice)\n",
    "area = sarea.reshape(1,-1)\n",
    "bedrooms = sbedrooms.reshape(1,-1)\n",
    "bathrooms = sbathrooms.reshape(1,-1)\n",
    "stories = sstories.reshape(1,-1)\n",
    "parking = sparking.reshape(1,-1)\n",
    "price = sprice.reshape(1,-1)"
   ]
  },
  {
   "cell_type": "code",
   "execution_count": 11,
   "id": "c59d9721-9faa-4ceb-ba07-c8885c439d1e",
   "metadata": {},
   "outputs": [],
   "source": [
    "area = torch.tensor(area)\n",
    "bedrooms = torch.tensor(bedrooms)\n",
    "bathrooms = torch.tensor(bathrooms)\n",
    "stories = torch.tensor(stories)\n",
    "parking = torch.tensor(parking)\n",
    "price = torch.tensor(price)"
   ]
  },
  {
   "cell_type": "code",
   "execution_count": 12,
   "id": "a5eb1e92-0581-4d74-b02d-e26467204bb3",
   "metadata": {},
   "outputs": [],
   "source": [
    "w1 = torch.ones(())\n",
    "w2 = torch.ones(())\n",
    "w3 = torch.ones(())\n",
    "w4 = torch.ones(())\n",
    "w5 = torch.ones(())\n",
    "b = torch.zeros(())"
   ]
  },
  {
   "cell_type": "code",
   "execution_count": 13,
   "id": "1851986c-3a4b-4306-8fe2-e3061b79fe2f",
   "metadata": {},
   "outputs": [],
   "source": [
    "def model(area, bedrooms, bathrooms, stories, parking, w1, w2, w3, w4, w5, b):\n",
    "    return (area*w1) + (bedrooms*w2) + (bathrooms*w3) + (stories*w4) + (parking*w5) + b\n",
    "def loss_fn(t_p, price):\n",
    "    squared_diffs = pow((t_p - price),2)\n",
    "    return squared_diffs.mean()\n",
    "def dmodel_dw1(area, w1, b):\n",
    "    return area\n",
    "def dmodel_dw2(bedrooms, w2, b):\n",
    "    return bedrooms\n",
    "def dmodel_dw3(bathrooms, w3, b):\n",
    "    return bathrooms\n",
    "def dmodel_dw4(stories, w4, b):\n",
    "    return stories\n",
    "def dmodel_dw5(parking, w5, b):\n",
    "    return parking\n",
    "def dmodel_db(area, bedrooms, bathrooms, stories, parking, w1, w2, w3, w4, w5, b):\n",
    "    return 1\n",
    "def dloss_fn(t_p, price):\n",
    "    dsq_diffs = (2 * (t_p - price)) / t_p.size(0)\n",
    "    return dsq_diffs\n",
    "def grad_fn(area, bedrooms, bathrooms, stories, parking, price, t_p, w1, w2, w3, w4, w5, b):\n",
    "    dloss_dtp = dloss_fn(t_p, price)\n",
    "    dloss_dw1 = dloss_dtp * dmodel_dw1(area, w1, b)\n",
    "    dloss_dw2 = dloss_dtp * dmodel_dw2(bedrooms, w2, b)\n",
    "    dloss_dw3 = dloss_dtp * dmodel_dw2(bathrooms, w3, b)\n",
    "    dloss_dw4 = dloss_dtp * dmodel_dw2(stories, w4, b)\n",
    "    dloss_dw5 = dloss_dtp * dmodel_dw2(parking, w5, b)\n",
    "    dloss_db = dloss_dtp * dmodel_db(area, bedrooms, bathrooms, stories, parking, w1, w2, w3, w4, w5, b)\n",
    "    \n",
    "    return torch.stack([dloss_dw1.sum(), dloss_dw2.sum(), dloss_dw3.sum(), dloss_dw4.sum(), dloss_dw5.sum(), dloss_db.sum()])\n",
    "def training_loop(n_epochs, learning_rate, params, area, bedrooms, bathrooms, stories, parking,  price):\n",
    "    losshistory = np.zeros(n_epochs+1)\n",
    "    for epoch in range(1, n_epochs + 1):\n",
    "        w1, w2, w3, w4, w5, b = params\n",
    "        t_p = model(area, bedrooms, bathrooms, stories, parking, w1, w2, w3, w4, w5, b)\n",
    "        loss = loss_fn(t_p, price)\n",
    "        grad = grad_fn(area, bedrooms, bathrooms, stories, parking, price, t_p, w1, w2, w3, w4, w5, b)\n",
    "\n",
    "        params = params - learning_rate * grad\n",
    "        losshistory[epoch] = float(loss)\n",
    "     \n",
    "    return losshistory"
   ]
  },
  {
   "cell_type": "code",
   "execution_count": 14,
   "id": "4b012d8b-d051-4569-8546-97fc1fc31c7a",
   "metadata": {},
   "outputs": [
    {
     "name": "stdout",
     "output_type": "stream",
     "text": [
      "0.0\n",
      "0.4384174561320197\n",
      "0.4384174561320197\n",
      "0.4384174561320197\n",
      "0.4384174561320197\n",
      "0.4384174561320197\n",
      "0.4384174561320197\n",
      "0.4384174561320197\n",
      "0.4384174561320197\n",
      "0.4384174561320197\n",
      "0.4384174561320197\n"
     ]
    }
   ],
   "source": [
    "loss = training_loop(n_epochs = 5000, learning_rate = 0.0001, params = torch.tensor([1, 1, 1, 1, 1, 0]), area = area, bedrooms = bedrooms, bathrooms = bathrooms, stories = stories, parking = parking, price = price);\n",
    "print(loss[0])\n",
    "print(loss[500])\n",
    "print(loss[1000])\n",
    "print(loss[1500])\n",
    "print(loss[2000])\n",
    "print(loss[2500])\n",
    "print(loss[3000])\n",
    "print(loss[3500])\n",
    "print(loss[4000])\n",
    "print(loss[4500])\n",
    "print(loss[5000])"
   ]
  },
  {
   "cell_type": "code",
   "execution_count": 15,
   "id": "f25c4b85-36d3-4619-b50e-f9f32ae38925",
   "metadata": {},
   "outputs": [
    {
     "data": {
      "image/png": "[encoded data removed]",
      "text/plain": [
       "<Figure size 432x288 with 1 Axes>"
      ]
     },
     "metadata": {
      "needs_background": "light"
     },
     "output_type": "display_data"
    }
   ],
   "source": [
    "plt.plot(range(1,5000 +2), loss, color = 'blue')\n",
    "plt.xticks(np.arange(0, 5000+2, 500));"
   ]
  },
  {
   "cell_type": "code",
   "execution_count": 16,
   "id": "7a5490c6-ae62-498b-97eb-e12e54d1d6ff",
   "metadata": {},
   "outputs": [
    {
     "data": {
      "text/plain": [
       "<function matplotlib.pyplot.plot(*args, scalex=True, scaley=True, data=None, **kwargs)>"
      ]
     },
     "execution_count": 16,
     "metadata": {},
     "output_type": "execute_result"
    },
    {
     "data": {
      "text/plain": [
       "<Figure size 3600x2400 with 0 Axes>"
      ]
     },
     "metadata": {},
     "output_type": "display_data"
    }
   ],
   "source": [
    "t_p = model(area, bedrooms, bathrooms, stories, parking, w1, w2, w3, w4, w5, b)\n",
    "fig = plt.figure(dpi=600)\n",
    "plt.plot"
   ]
  }
 ],
 "metadata": {
  "kernelspec": {
   "display_name": "Python 3",
   "language": "python",
   "name": "python3"
  },
  "language_info": {
   "codemirror_mode": {
    "name": "ipython",
    "version": 3
   },
   "file_extension": ".py",
   "mimetype": "text/x-python",
   "name": "python",
   "nbconvert_exporter": "python",
   "pygments_lexer": "ipython3",
   "version": "3.8.8"
  }
 },
 "nbformat": 4,
 "nbformat_minor": 5
}
